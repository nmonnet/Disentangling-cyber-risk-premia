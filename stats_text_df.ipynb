{
 "cells": [
  {
   "cell_type": "code",
   "execution_count": 2,
   "id": "e6a4fa27-17e6-4743-9f2a-4da0a601387c",
   "metadata": {},
   "outputs": [
    {
     "name": "stderr",
     "output_type": "stream",
     "text": [
      "C:\\Users\\natha\\Desktop\\17-Cyber-risk_and_the_cross-section_of_stock_returns-main\\17-Cyber-risk_and_the_cross-section_of_stock_returns-main\\Work_Nathan\\useful_functions.py:948: SyntaxWarning: invalid escape sequence '\\s'\n",
      "  item1A = re.sub('\\s{2,}',' ', item1A)\n",
      "C:\\Users\\natha\\Desktop\\17-Cyber-risk_and_the_cross-section_of_stock_returns-main\\17-Cyber-risk_and_the_cross-section_of_stock_returns-main\\Work_Nathan\\useful_functions.py:959: SyntaxWarning: invalid escape sequence '\\s'\n",
      "  document = re.sub('\\s{2,}',' ', document)\n",
      "[nltk_data] Downloading package stopwords to\n",
      "[nltk_data]     C:\\Users\\natha\\AppData\\Roaming\\nltk_data...\n",
      "[nltk_data]   Package stopwords is already up-to-date!\n"
     ]
    },
    {
     "name": "stdout",
     "output_type": "stream",
     "text": [
      "update 18\n"
     ]
    }
   ],
   "source": [
    "%run useful_functions.py"
   ]
  },
  {
   "cell_type": "code",
   "execution_count": 2,
   "id": "5d44b4e0-468c-41fe-b21c-a4d7b17ebc1c",
   "metadata": {},
   "outputs": [],
   "source": [
    "words_per_paragraph_total_vector=np.array([])\n",
    "nb_paragraphs_list=[]"
   ]
  },
  {
   "cell_type": "code",
   "execution_count": 3,
   "id": "63ede0c6-d6dc-480b-b192-3a55e4f738c8",
   "metadata": {},
   "outputs": [
    {
     "name": "stdout",
     "output_type": "stream",
     "text": [
      "2007\n"
     ]
    },
    {
     "data": {
      "application/vnd.jupyter.widget-view+json": {
       "model_id": "4aeb9b1c218f4016a4657b5b63d9690b",
       "version_major": 2,
       "version_minor": 0
      },
      "text/plain": [
       "Processing files for year 2007:   0%|          | 0/3279 [00:00<?, ?it/s]"
      ]
     },
     "metadata": {},
     "output_type": "display_data"
    },
    {
     "name": "stdout",
     "output_type": "stream",
     "text": [
      "2008\n"
     ]
    },
    {
     "data": {
      "application/vnd.jupyter.widget-view+json": {
       "model_id": "e1a8da36b57b4a71a00fa0015f44ba2e",
       "version_major": 2,
       "version_minor": 0
      },
      "text/plain": [
       "Processing files for year 2008:   0%|          | 0/3343 [00:00<?, ?it/s]"
      ]
     },
     "metadata": {},
     "output_type": "display_data"
    },
    {
     "name": "stdout",
     "output_type": "stream",
     "text": [
      "2009\n"
     ]
    },
    {
     "data": {
      "application/vnd.jupyter.widget-view+json": {
       "model_id": "4150e848fdd2462cb885c13d93ff9f6c",
       "version_major": 2,
       "version_minor": 0
      },
      "text/plain": [
       "Processing files for year 2009:   0%|          | 0/3542 [00:00<?, ?it/s]"
      ]
     },
     "metadata": {},
     "output_type": "display_data"
    },
    {
     "name": "stdout",
     "output_type": "stream",
     "text": [
      "2010\n"
     ]
    },
    {
     "data": {
      "application/vnd.jupyter.widget-view+json": {
       "model_id": "7e09851b55a44ddba2d735c6e264d39b",
       "version_major": 2,
       "version_minor": 0
      },
      "text/plain": [
       "Processing files for year 2010:   0%|          | 0/3472 [00:00<?, ?it/s]"
      ]
     },
     "metadata": {},
     "output_type": "display_data"
    },
    {
     "name": "stdout",
     "output_type": "stream",
     "text": [
      "2011\n"
     ]
    },
    {
     "data": {
      "application/vnd.jupyter.widget-view+json": {
       "model_id": "bbe92ee3a9b14ec9a4dacf53d41b8e8d",
       "version_major": 2,
       "version_minor": 0
      },
      "text/plain": [
       "Processing files for year 2011:   0%|          | 0/3432 [00:00<?, ?it/s]"
      ]
     },
     "metadata": {},
     "output_type": "display_data"
    },
    {
     "name": "stdout",
     "output_type": "stream",
     "text": [
      "2012\n"
     ]
    },
    {
     "data": {
      "application/vnd.jupyter.widget-view+json": {
       "model_id": "0c772b30212c434bb5401a2cd98cbe2e",
       "version_major": 2,
       "version_minor": 0
      },
      "text/plain": [
       "Processing files for year 2012:   0%|          | 0/3413 [00:00<?, ?it/s]"
      ]
     },
     "metadata": {},
     "output_type": "display_data"
    },
    {
     "name": "stdout",
     "output_type": "stream",
     "text": [
      "2013\n"
     ]
    },
    {
     "data": {
      "application/vnd.jupyter.widget-view+json": {
       "model_id": "a81989db8ef94390b176c7122b581f45",
       "version_major": 2,
       "version_minor": 0
      },
      "text/plain": [
       "Processing files for year 2013:   0%|          | 0/3404 [00:00<?, ?it/s]"
      ]
     },
     "metadata": {},
     "output_type": "display_data"
    },
    {
     "name": "stdout",
     "output_type": "stream",
     "text": [
      "2014\n"
     ]
    },
    {
     "data": {
      "application/vnd.jupyter.widget-view+json": {
       "model_id": "e31faa3424904b2fa974b778c4283b92",
       "version_major": 2,
       "version_minor": 0
      },
      "text/plain": [
       "Processing files for year 2014:   0%|          | 0/3491 [00:00<?, ?it/s]"
      ]
     },
     "metadata": {},
     "output_type": "display_data"
    },
    {
     "name": "stdout",
     "output_type": "stream",
     "text": [
      "2015\n"
     ]
    },
    {
     "data": {
      "application/vnd.jupyter.widget-view+json": {
       "model_id": "eeffe4a128374e06b7f5d19d73d63c13",
       "version_major": 2,
       "version_minor": 0
      },
      "text/plain": [
       "Processing files for year 2015:   0%|          | 0/3618 [00:00<?, ?it/s]"
      ]
     },
     "metadata": {},
     "output_type": "display_data"
    },
    {
     "name": "stdout",
     "output_type": "stream",
     "text": [
      "2016\n"
     ]
    },
    {
     "data": {
      "application/vnd.jupyter.widget-view+json": {
       "model_id": "6461dc29f10d447fa932cf9763d9d9ad",
       "version_major": 2,
       "version_minor": 0
      },
      "text/plain": [
       "Processing files for year 2016:   0%|          | 0/3657 [00:00<?, ?it/s]"
      ]
     },
     "metadata": {},
     "output_type": "display_data"
    },
    {
     "name": "stdout",
     "output_type": "stream",
     "text": [
      "2017\n"
     ]
    },
    {
     "data": {
      "application/vnd.jupyter.widget-view+json": {
       "model_id": "828e5de606084a298143a05afa6296e3",
       "version_major": 2,
       "version_minor": 0
      },
      "text/plain": [
       "Processing files for year 2017:   0%|          | 0/3704 [00:00<?, ?it/s]"
      ]
     },
     "metadata": {},
     "output_type": "display_data"
    },
    {
     "name": "stdout",
     "output_type": "stream",
     "text": [
      "2018\n"
     ]
    },
    {
     "data": {
      "application/vnd.jupyter.widget-view+json": {
       "model_id": "32a08ef862564ffa9125cfc667ada664",
       "version_major": 2,
       "version_minor": 0
      },
      "text/plain": [
       "Processing files for year 2018:   0%|          | 0/3820 [00:00<?, ?it/s]"
      ]
     },
     "metadata": {},
     "output_type": "display_data"
    },
    {
     "name": "stdout",
     "output_type": "stream",
     "text": [
      "2019\n"
     ]
    },
    {
     "data": {
      "application/vnd.jupyter.widget-view+json": {
       "model_id": "1247555ce6754944b63e62d7bfde725d",
       "version_major": 2,
       "version_minor": 0
      },
      "text/plain": [
       "Processing files for year 2019:   0%|          | 0/3939 [00:00<?, ?it/s]"
      ]
     },
     "metadata": {},
     "output_type": "display_data"
    },
    {
     "name": "stdout",
     "output_type": "stream",
     "text": [
      "2020\n"
     ]
    },
    {
     "data": {
      "application/vnd.jupyter.widget-view+json": {
       "model_id": "82ae34d3f9ae4049ae5c61e7c9ccc7cb",
       "version_major": 2,
       "version_minor": 0
      },
      "text/plain": [
       "Processing files for year 2020:   0%|          | 0/4076 [00:00<?, ?it/s]"
      ]
     },
     "metadata": {},
     "output_type": "display_data"
    },
    {
     "name": "stdout",
     "output_type": "stream",
     "text": [
      "2021\n"
     ]
    },
    {
     "data": {
      "application/vnd.jupyter.widget-view+json": {
       "model_id": "ba301383ad5d4ed080936d3f4ec0f098",
       "version_major": 2,
       "version_minor": 0
      },
      "text/plain": [
       "Processing files for year 2021:   0%|          | 0/4513 [00:00<?, ?it/s]"
      ]
     },
     "metadata": {},
     "output_type": "display_data"
    },
    {
     "name": "stdout",
     "output_type": "stream",
     "text": [
      "2022\n"
     ]
    },
    {
     "data": {
      "application/vnd.jupyter.widget-view+json": {
       "model_id": "ed15ad7eec2249b882fc7d072c45790c",
       "version_major": 2,
       "version_minor": 0
      },
      "text/plain": [
       "Processing files for year 2022:   0%|          | 0/5289 [00:00<?, ?it/s]"
      ]
     },
     "metadata": {},
     "output_type": "display_data"
    },
    {
     "name": "stdout",
     "output_type": "stream",
     "text": [
      "2023\n"
     ]
    },
    {
     "data": {
      "application/vnd.jupyter.widget-view+json": {
       "model_id": "7692767723174714ae46ab222935e7e5",
       "version_major": 2,
       "version_minor": 0
      },
      "text/plain": [
       "Processing files for year 2023:   0%|          | 0/4996 [00:00<?, ?it/s]"
      ]
     },
     "metadata": {},
     "output_type": "display_data"
    },
    {
     "name": "stdout",
     "output_type": "stream",
     "text": [
      "2024\n"
     ]
    },
    {
     "data": {
      "application/vnd.jupyter.widget-view+json": {
       "model_id": "ee97e1c45f694861b22586f76a346825",
       "version_major": 2,
       "version_minor": 0
      },
      "text/plain": [
       "Processing files for year 2024:   0%|          | 0/2014 [00:00<?, ?it/s]"
      ]
     },
     "metadata": {},
     "output_type": "display_data"
    }
   ],
   "source": [
    "for year in range(2007, 2025):\n",
    "    print(year)\n",
    "    files = os.listdir('../../data/10k_statements_new/tokens/' + str(year))\n",
    "    for file in tqdm(files, desc=f\"Processing files for year {year}\"):\n",
    "        \n",
    "        csv_file_path = '../../data/10k_statements_new/tokens/'+str(year)+\"/\"+file\n",
    "        \n",
    "        # Read the CSV file into a pandas DataFrame\n",
    "        df = pd.read_csv(csv_file_path, dtype=str)\n",
    "        \n",
    "        words_per_paragraph_vector=df.count(axis=1).values\n",
    "        number_of_paragraph=words_per_paragraph_vector.shape[0]\n",
    "\n",
    "        nb_paragraphs_list.append(number_of_paragraph)\n",
    "        \n",
    "        words_per_paragraph_total_vector=np.concatenate((words_per_paragraph_total_vector, words_per_paragraph_vector))"
   ]
  },
  {
   "cell_type": "code",
   "execution_count": 4,
   "id": "d5b62c1f-a881-4a68-875d-7c910e50f2da",
   "metadata": {},
   "outputs": [
    {
     "name": "stdout",
     "output_type": "stream",
     "text": [
      "649.7558580340885\n",
      "304.7008325067628\n",
      "46.439772240881815\n",
      "42.695636794966724\n"
     ]
    }
   ],
   "source": [
    "print(np.mean(np.array(nb_paragraphs_list)))\n",
    "print(np.std(np.array(nb_paragraphs_list)))\n",
    "\n",
    "print(np.mean(words_per_paragraph_total_vector))\n",
    "print(np.std(words_per_paragraph_total_vector))"
   ]
  },
  {
   "cell_type": "code",
   "execution_count": 5,
   "id": "88a46e83-4e99-46bf-b520-272d075c68a2",
   "metadata": {},
   "outputs": [
    {
     "name": "stdout",
     "output_type": "stream",
     "text": [
      "2020\n"
     ]
    },
    {
     "data": {
      "application/vnd.jupyter.widget-view+json": {
       "model_id": "ad170de5da5f49f2bfb96d065efd068c",
       "version_major": 2,
       "version_minor": 0
      },
      "text/plain": [
       "Processing files for year 2020:   0%|          | 0/4076 [00:00<?, ?it/s]"
      ]
     },
     "metadata": {},
     "output_type": "display_data"
    },
    {
     "name": "stdout",
     "output_type": "stream",
     "text": [
      "vu\n",
      "vu\n",
      "vu\n",
      "vu\n",
      "vu\n",
      "vu\n",
      "vu\n",
      "vu\n",
      "vu\n",
      "vu\n",
      "vu\n",
      "vu\n",
      "vu\n",
      "vu\n",
      "vu\n",
      "vu\n",
      "vu\n",
      "vu\n",
      "vu\n",
      "vu\n",
      "vu\n",
      "vu\n",
      "vu\n",
      "vu\n",
      "vu\n",
      "vu\n",
      "vu\n",
      "vu\n",
      "vu\n",
      "vu\n",
      "vu\n",
      "vu\n",
      "vu\n",
      "vu\n",
      "vu\n",
      "vu\n",
      "vu\n",
      "vu\n",
      "vu\n",
      "vu\n",
      "vu\n",
      "vu\n",
      "vu\n",
      "vu\n",
      "vu\n",
      "vu\n",
      "vu\n",
      "vu\n",
      "vu\n",
      "vu\n",
      "vu\n",
      "vu\n",
      "vu\n",
      "vu\n",
      "vu\n",
      "vu\n",
      "vu\n",
      "vu\n",
      "vu\n",
      "vu\n",
      "vu\n",
      "vu\n",
      "vu\n",
      "vu\n",
      "vu\n",
      "vu\n",
      "vu\n",
      "vu\n",
      "vu\n",
      "vu\n",
      "vu\n",
      "vu\n",
      "vu\n",
      "vu\n",
      "vu\n",
      "vu\n",
      "vu\n",
      "vu\n",
      "vu\n",
      "vu\n",
      "vu\n",
      "vu\n",
      "vu\n",
      "vu\n",
      "vu\n",
      "vu\n",
      "vu\n",
      "vu\n",
      "vu\n",
      "vu\n",
      "vu\n",
      "vu\n",
      "vu\n",
      "vu\n",
      "vu\n",
      "vu\n",
      "vu\n",
      "vu\n",
      "vu\n",
      "vu\n",
      "vu\n",
      "vu\n",
      "vu\n",
      "vu\n",
      "vu\n",
      "vu\n",
      "vu\n",
      "vu\n",
      "vu\n",
      "vu\n",
      "vu\n",
      "vu\n",
      "vu\n",
      "vu\n",
      "vu\n",
      "vu\n",
      "vu\n",
      "vu\n",
      "vu\n",
      "vu\n",
      "vu\n",
      "vu\n",
      "vu\n",
      "vu\n",
      "vu\n",
      "vu\n",
      "vu\n",
      "vu\n",
      "vu\n",
      "vu\n",
      "vu\n",
      "vu\n",
      "vu\n",
      "vu\n",
      "vu\n",
      "vu\n",
      "vu\n",
      "vu\n",
      "vu\n",
      "vu\n",
      "vu\n",
      "vu\n",
      "vu\n",
      "vu\n",
      "vu\n",
      "vu\n",
      "vu\n",
      "vu\n",
      "vu\n",
      "vu\n",
      "vu\n",
      "vu\n",
      "vu\n",
      "vu\n",
      "vu\n",
      "vu\n",
      "vu\n",
      "vu\n",
      "vu\n",
      "vu\n",
      "vu\n",
      "vu\n",
      "vu\n",
      "vu\n",
      "vu\n",
      "vu\n",
      "vu\n",
      "vu\n",
      "vu\n",
      "vu\n",
      "vu\n",
      "vu\n",
      "vu\n",
      "vu\n",
      "vu\n",
      "vu\n",
      "vu\n",
      "vu\n",
      "vu\n",
      "vu\n",
      "vu\n",
      "vu\n",
      "vu\n",
      "vu\n",
      "vu\n",
      "vu\n",
      "vu\n",
      "vu\n",
      "vu\n",
      "vu\n",
      "vu\n",
      "vu\n",
      "vu\n",
      "vu\n",
      "vu\n",
      "vu\n",
      "vu\n",
      "vu\n",
      "vu\n",
      "vu\n",
      "vu\n",
      "vu\n",
      "vu\n",
      "vu\n",
      "vu\n",
      "vu\n",
      "vu\n",
      "vu\n",
      "vu\n",
      "vu\n",
      "vu\n",
      "vu\n",
      "vu\n",
      "vu\n",
      "vu\n",
      "vu\n",
      "vu\n",
      "vu\n",
      "vu\n",
      "vu\n",
      "vu\n",
      "vu\n",
      "vu\n",
      "vu\n",
      "vu\n",
      "vu\n",
      "vu\n",
      "vu\n",
      "vu\n",
      "vu\n",
      "vu\n",
      "vu\n",
      "vu\n",
      "vu\n",
      "vu\n",
      "vu\n",
      "vu\n",
      "vu\n",
      "vu\n",
      "vu\n",
      "vu\n",
      "vu\n",
      "vu\n",
      "vu\n",
      "vu\n",
      "vu\n",
      "vu\n",
      "vu\n",
      "vu\n",
      "vu\n",
      "vu\n",
      "vu\n",
      "vu\n",
      "vu\n",
      "vu\n",
      "vu\n",
      "vu\n",
      "vu\n",
      "vu\n",
      "vu\n",
      "vu\n",
      "vu\n",
      "vu\n",
      "vu\n",
      "vu\n",
      "vu\n",
      "vu\n",
      "vu\n",
      "vu\n",
      "vu\n",
      "vu\n",
      "vu\n",
      "vu\n",
      "vu\n",
      "vu\n",
      "vu\n",
      "vu\n",
      "vu\n",
      "vu\n",
      "vu\n",
      "vu\n",
      "vu\n",
      "vu\n",
      "vu\n",
      "vu\n",
      "vu\n",
      "vu\n",
      "vu\n",
      "vu\n",
      "vu\n",
      "vu\n",
      "vu\n",
      "vu\n",
      "vu\n",
      "vu\n",
      "vu\n",
      "vu\n",
      "vu\n",
      "vu\n",
      "vu\n",
      "vu\n",
      "vu\n",
      "vu\n",
      "vu\n",
      "vu\n",
      "vu\n",
      "vu\n",
      "vu\n",
      "vu\n",
      "vu\n",
      "vu\n",
      "vu\n",
      "vu\n",
      "vu\n",
      "vu\n",
      "vu\n",
      "vu\n",
      "vu\n",
      "vu\n",
      "vu\n",
      "vu\n",
      "vu\n",
      "vu\n",
      "vu\n",
      "vu\n",
      "vu\n",
      "vu\n",
      "vu\n",
      "vu\n",
      "vu\n",
      "vu\n",
      "vu\n",
      "vu\n",
      "vu\n",
      "vu\n",
      "vu\n",
      "vu\n",
      "vu\n",
      "vu\n",
      "vu\n",
      "vu\n",
      "vu\n",
      "vu\n",
      "vu\n",
      "vu\n",
      "vu\n",
      "vu\n",
      "vu\n",
      "vu\n",
      "vu\n",
      "vu\n",
      "vu\n",
      "vu\n",
      "vu\n",
      "vu\n",
      "vu\n",
      "vu\n",
      "vu\n",
      "vu\n",
      "vu\n",
      "vu\n",
      "vu\n",
      "vu\n",
      "vu\n",
      "vu\n",
      "vu\n",
      "vu\n",
      "vu\n",
      "vu\n",
      "vu\n",
      "vu\n",
      "vu\n",
      "vu\n",
      "vu\n",
      "vu\n",
      "vu\n",
      "vu\n",
      "vu\n",
      "vu\n",
      "vu\n",
      "vu\n",
      "vu\n",
      "vu\n",
      "vu\n",
      "vu\n",
      "vu\n",
      "vu\n",
      "vu\n",
      "vu\n",
      "vu\n",
      "vu\n",
      "vu\n",
      "vu\n",
      "vu\n",
      "vu\n",
      "vu\n",
      "vu\n",
      "vu\n",
      "vu\n",
      "vu\n",
      "vu\n",
      "vu\n",
      "vu\n",
      "vu\n",
      "vu\n",
      "vu\n",
      "vu\n",
      "vu\n",
      "vu\n",
      "vu\n",
      "vu\n",
      "vu\n",
      "vu\n",
      "vu\n",
      "vu\n",
      "vu\n",
      "vu\n",
      "vu\n",
      "vu\n",
      "vu\n",
      "vu\n",
      "vu\n",
      "vu\n",
      "vu\n",
      "vu\n",
      "vu\n",
      "vu\n",
      "vu\n",
      "vu\n",
      "vu\n",
      "vu\n",
      "vu\n",
      "vu\n",
      "vu\n",
      "vu\n",
      "vu\n",
      "vu\n",
      "vu\n",
      "vu\n",
      "vu\n",
      "vu\n",
      "vu\n",
      "vu\n",
      "vu\n",
      "vu\n",
      "vu\n",
      "vu\n",
      "vu\n",
      "vu\n",
      "vu\n",
      "vu\n",
      "vu\n",
      "vu\n",
      "vu\n",
      "vu\n",
      "vu\n",
      "vu\n",
      "vu\n",
      "vu\n",
      "vu\n",
      "vu\n",
      "vu\n",
      "vu\n",
      "vu\n",
      "vu\n",
      "vu\n",
      "vu\n",
      "vu\n",
      "vu\n"
     ]
    },
    {
     "ename": "KeyboardInterrupt",
     "evalue": "",
     "output_type": "error",
     "traceback": [
      "\u001b[1;31m---------------------------------------------------------------------------\u001b[0m",
      "\u001b[1;31mKeyboardInterrupt\u001b[0m                         Traceback (most recent call last)",
      "Cell \u001b[1;32mIn[5], line 9\u001b[0m\n\u001b[0;32m      7\u001b[0m file_path \u001b[38;5;241m=\u001b[39m \u001b[38;5;124m'\u001b[39m\u001b[38;5;124m../../data/10k_statements_new/similarity_with_MITRES/\u001b[39m\u001b[38;5;124m'\u001b[39m\u001b[38;5;241m+\u001b[39m\u001b[38;5;28mstr\u001b[39m(year)\u001b[38;5;241m+\u001b[39m\u001b[38;5;124m\"\u001b[39m\u001b[38;5;124m/\u001b[39m\u001b[38;5;124m\"\u001b[39m\u001b[38;5;241m+\u001b[39mfile\n\u001b[0;32m      8\u001b[0m arr\u001b[38;5;241m=\u001b[39mnp\u001b[38;5;241m.\u001b[39mload(file_path)\n\u001b[1;32m----> 9\u001b[0m arr\u001b[38;5;241m=\u001b[39m\u001b[43marr\u001b[49m\u001b[43m[\u001b[49m\u001b[38;5;124;43m\"\u001b[39;49m\u001b[38;5;124;43marr\u001b[39;49m\u001b[38;5;124;43m\"\u001b[39;49m\u001b[43m]\u001b[49m\n\u001b[0;32m     10\u001b[0m \u001b[38;5;28;01mif\u001b[39;00m np\u001b[38;5;241m.\u001b[39many(arr \u001b[38;5;241m<\u001b[39m \u001b[38;5;241m0.1\u001b[39m): \n\u001b[0;32m     11\u001b[0m     N\u001b[38;5;241m+\u001b[39m\u001b[38;5;241m=\u001b[39m\u001b[38;5;241m1\u001b[39m\n",
      "File \u001b[1;32m~\\AppData\\Local\\Programs\\Python\\Python312\\Lib\\site-packages\\numpy\\lib\\npyio.py:256\u001b[0m, in \u001b[0;36mNpzFile.__getitem__\u001b[1;34m(self, key)\u001b[0m\n\u001b[0;32m    254\u001b[0m \u001b[38;5;28;01mif\u001b[39;00m magic \u001b[38;5;241m==\u001b[39m \u001b[38;5;28mformat\u001b[39m\u001b[38;5;241m.\u001b[39mMAGIC_PREFIX:\n\u001b[0;32m    255\u001b[0m     \u001b[38;5;28mbytes\u001b[39m \u001b[38;5;241m=\u001b[39m \u001b[38;5;28mself\u001b[39m\u001b[38;5;241m.\u001b[39mzip\u001b[38;5;241m.\u001b[39mopen(key)\n\u001b[1;32m--> 256\u001b[0m     \u001b[38;5;28;01mreturn\u001b[39;00m \u001b[38;5;28;43mformat\u001b[39;49m\u001b[38;5;241;43m.\u001b[39;49m\u001b[43mread_array\u001b[49m\u001b[43m(\u001b[49m\u001b[38;5;28;43mbytes\u001b[39;49m\u001b[43m,\u001b[49m\n\u001b[0;32m    257\u001b[0m \u001b[43m                             \u001b[49m\u001b[43mallow_pickle\u001b[49m\u001b[38;5;241;43m=\u001b[39;49m\u001b[38;5;28;43mself\u001b[39;49m\u001b[38;5;241;43m.\u001b[39;49m\u001b[43mallow_pickle\u001b[49m\u001b[43m,\u001b[49m\n\u001b[0;32m    258\u001b[0m \u001b[43m                             \u001b[49m\u001b[43mpickle_kwargs\u001b[49m\u001b[38;5;241;43m=\u001b[39;49m\u001b[38;5;28;43mself\u001b[39;49m\u001b[38;5;241;43m.\u001b[39;49m\u001b[43mpickle_kwargs\u001b[49m\u001b[43m,\u001b[49m\n\u001b[0;32m    259\u001b[0m \u001b[43m                             \u001b[49m\u001b[43mmax_header_size\u001b[49m\u001b[38;5;241;43m=\u001b[39;49m\u001b[38;5;28;43mself\u001b[39;49m\u001b[38;5;241;43m.\u001b[39;49m\u001b[43mmax_header_size\u001b[49m\u001b[43m)\u001b[49m\n\u001b[0;32m    260\u001b[0m \u001b[38;5;28;01melse\u001b[39;00m:\n\u001b[0;32m    261\u001b[0m     \u001b[38;5;28;01mreturn\u001b[39;00m \u001b[38;5;28mself\u001b[39m\u001b[38;5;241m.\u001b[39mzip\u001b[38;5;241m.\u001b[39mread(key)\n",
      "File \u001b[1;32m~\\AppData\\Local\\Programs\\Python\\Python312\\Lib\\site-packages\\numpy\\lib\\format.py:831\u001b[0m, in \u001b[0;36mread_array\u001b[1;34m(fp, allow_pickle, pickle_kwargs, max_header_size)\u001b[0m\n\u001b[0;32m    829\u001b[0m             read_count \u001b[38;5;241m=\u001b[39m \u001b[38;5;28mmin\u001b[39m(max_read_count, count \u001b[38;5;241m-\u001b[39m i)\n\u001b[0;32m    830\u001b[0m             read_size \u001b[38;5;241m=\u001b[39m \u001b[38;5;28mint\u001b[39m(read_count \u001b[38;5;241m*\u001b[39m dtype\u001b[38;5;241m.\u001b[39mitemsize)\n\u001b[1;32m--> 831\u001b[0m             data \u001b[38;5;241m=\u001b[39m \u001b[43m_read_bytes\u001b[49m\u001b[43m(\u001b[49m\u001b[43mfp\u001b[49m\u001b[43m,\u001b[49m\u001b[43m \u001b[49m\u001b[43mread_size\u001b[49m\u001b[43m,\u001b[49m\u001b[43m \u001b[49m\u001b[38;5;124;43m\"\u001b[39;49m\u001b[38;5;124;43marray data\u001b[39;49m\u001b[38;5;124;43m\"\u001b[39;49m\u001b[43m)\u001b[49m\n\u001b[0;32m    832\u001b[0m             array[i:i\u001b[38;5;241m+\u001b[39mread_count] \u001b[38;5;241m=\u001b[39m numpy\u001b[38;5;241m.\u001b[39mfrombuffer(data, dtype\u001b[38;5;241m=\u001b[39mdtype,\n\u001b[0;32m    833\u001b[0m                                                      count\u001b[38;5;241m=\u001b[39mread_count)\n\u001b[0;32m    835\u001b[0m \u001b[38;5;28;01mif\u001b[39;00m fortran_order:\n",
      "File \u001b[1;32m~\\AppData\\Local\\Programs\\Python\\Python312\\Lib\\site-packages\\numpy\\lib\\format.py:966\u001b[0m, in \u001b[0;36m_read_bytes\u001b[1;34m(fp, size, error_template)\u001b[0m\n\u001b[0;32m    961\u001b[0m \u001b[38;5;28;01mwhile\u001b[39;00m \u001b[38;5;28;01mTrue\u001b[39;00m:\n\u001b[0;32m    962\u001b[0m     \u001b[38;5;66;03m# io files (default in python3) return None or raise on\u001b[39;00m\n\u001b[0;32m    963\u001b[0m     \u001b[38;5;66;03m# would-block, python2 file will truncate, probably nothing can be\u001b[39;00m\n\u001b[0;32m    964\u001b[0m     \u001b[38;5;66;03m# done about that.  note that regular files can't be non-blocking\u001b[39;00m\n\u001b[0;32m    965\u001b[0m     \u001b[38;5;28;01mtry\u001b[39;00m:\n\u001b[1;32m--> 966\u001b[0m         r \u001b[38;5;241m=\u001b[39m \u001b[43mfp\u001b[49m\u001b[38;5;241;43m.\u001b[39;49m\u001b[43mread\u001b[49m\u001b[43m(\u001b[49m\u001b[43msize\u001b[49m\u001b[43m \u001b[49m\u001b[38;5;241;43m-\u001b[39;49m\u001b[43m \u001b[49m\u001b[38;5;28;43mlen\u001b[39;49m\u001b[43m(\u001b[49m\u001b[43mdata\u001b[49m\u001b[43m)\u001b[49m\u001b[43m)\u001b[49m\n\u001b[0;32m    967\u001b[0m         data \u001b[38;5;241m+\u001b[39m\u001b[38;5;241m=\u001b[39m r\n\u001b[0;32m    968\u001b[0m         \u001b[38;5;28;01mif\u001b[39;00m \u001b[38;5;28mlen\u001b[39m(r) \u001b[38;5;241m==\u001b[39m \u001b[38;5;241m0\u001b[39m \u001b[38;5;129;01mor\u001b[39;00m \u001b[38;5;28mlen\u001b[39m(data) \u001b[38;5;241m==\u001b[39m size:\n",
      "File \u001b[1;32m~\\AppData\\Local\\Programs\\Python\\Python312\\Lib\\zipfile\\__init__.py:981\u001b[0m, in \u001b[0;36mZipExtFile.read\u001b[1;34m(self, n)\u001b[0m\n\u001b[0;32m    979\u001b[0m \u001b[38;5;28mself\u001b[39m\u001b[38;5;241m.\u001b[39m_offset \u001b[38;5;241m=\u001b[39m \u001b[38;5;241m0\u001b[39m\n\u001b[0;32m    980\u001b[0m \u001b[38;5;28;01mwhile\u001b[39;00m n \u001b[38;5;241m>\u001b[39m \u001b[38;5;241m0\u001b[39m \u001b[38;5;129;01mand\u001b[39;00m \u001b[38;5;129;01mnot\u001b[39;00m \u001b[38;5;28mself\u001b[39m\u001b[38;5;241m.\u001b[39m_eof:\n\u001b[1;32m--> 981\u001b[0m     data \u001b[38;5;241m=\u001b[39m \u001b[38;5;28;43mself\u001b[39;49m\u001b[38;5;241;43m.\u001b[39;49m\u001b[43m_read1\u001b[49m\u001b[43m(\u001b[49m\u001b[43mn\u001b[49m\u001b[43m)\u001b[49m\n\u001b[0;32m    982\u001b[0m     \u001b[38;5;28;01mif\u001b[39;00m n \u001b[38;5;241m<\u001b[39m \u001b[38;5;28mlen\u001b[39m(data):\n\u001b[0;32m    983\u001b[0m         \u001b[38;5;28mself\u001b[39m\u001b[38;5;241m.\u001b[39m_readbuffer \u001b[38;5;241m=\u001b[39m data\n",
      "File \u001b[1;32m~\\AppData\\Local\\Programs\\Python\\Python312\\Lib\\zipfile\\__init__.py:1071\u001b[0m, in \u001b[0;36mZipExtFile._read1\u001b[1;34m(self, n)\u001b[0m\n\u001b[0;32m   1069\u001b[0m \u001b[38;5;28;01mif\u001b[39;00m \u001b[38;5;28mself\u001b[39m\u001b[38;5;241m.\u001b[39m_left \u001b[38;5;241m<\u001b[39m\u001b[38;5;241m=\u001b[39m \u001b[38;5;241m0\u001b[39m:\n\u001b[0;32m   1070\u001b[0m     \u001b[38;5;28mself\u001b[39m\u001b[38;5;241m.\u001b[39m_eof \u001b[38;5;241m=\u001b[39m \u001b[38;5;28;01mTrue\u001b[39;00m\n\u001b[1;32m-> 1071\u001b[0m \u001b[38;5;28;43mself\u001b[39;49m\u001b[38;5;241;43m.\u001b[39;49m\u001b[43m_update_crc\u001b[49m\u001b[43m(\u001b[49m\u001b[43mdata\u001b[49m\u001b[43m)\u001b[49m\n\u001b[0;32m   1072\u001b[0m \u001b[38;5;28;01mreturn\u001b[39;00m data\n",
      "File \u001b[1;32m~\\AppData\\Local\\Programs\\Python\\Python312\\Lib\\zipfile\\__init__.py:996\u001b[0m, in \u001b[0;36mZipExtFile._update_crc\u001b[1;34m(self, newdata)\u001b[0m\n\u001b[0;32m    993\u001b[0m \u001b[38;5;28;01mif\u001b[39;00m \u001b[38;5;28mself\u001b[39m\u001b[38;5;241m.\u001b[39m_expected_crc \u001b[38;5;129;01mis\u001b[39;00m \u001b[38;5;28;01mNone\u001b[39;00m:\n\u001b[0;32m    994\u001b[0m     \u001b[38;5;66;03m# No need to compute the CRC if we don't have a reference value\u001b[39;00m\n\u001b[0;32m    995\u001b[0m     \u001b[38;5;28;01mreturn\u001b[39;00m\n\u001b[1;32m--> 996\u001b[0m \u001b[38;5;28mself\u001b[39m\u001b[38;5;241m.\u001b[39m_running_crc \u001b[38;5;241m=\u001b[39m \u001b[43mcrc32\u001b[49m\u001b[43m(\u001b[49m\u001b[43mnewdata\u001b[49m\u001b[43m,\u001b[49m\u001b[43m \u001b[49m\u001b[38;5;28;43mself\u001b[39;49m\u001b[38;5;241;43m.\u001b[39;49m\u001b[43m_running_crc\u001b[49m\u001b[43m)\u001b[49m\n\u001b[0;32m    997\u001b[0m \u001b[38;5;66;03m# Check the CRC if we're at the end of the file\u001b[39;00m\n\u001b[0;32m    998\u001b[0m \u001b[38;5;28;01mif\u001b[39;00m \u001b[38;5;28mself\u001b[39m\u001b[38;5;241m.\u001b[39m_eof \u001b[38;5;129;01mand\u001b[39;00m \u001b[38;5;28mself\u001b[39m\u001b[38;5;241m.\u001b[39m_running_crc \u001b[38;5;241m!=\u001b[39m \u001b[38;5;28mself\u001b[39m\u001b[38;5;241m.\u001b[39m_expected_crc:\n",
      "\u001b[1;31mKeyboardInterrupt\u001b[0m: "
     ]
    }
   ],
   "source": [
    "N=0\n",
    "for year in range(2020, 2025):\n",
    "    print(year)\n",
    "    files = os.listdir('../../data/10k_statements_new/similarity_with_MITRES/' + str(year))\n",
    "    for file in tqdm(files, desc=f\"Processing files for year {year}\"):\n",
    "        \n",
    "        file_path = '../../data/10k_statements_new/similarity_with_MITRES/'+str(year)+\"/\"+file\n",
    "        arr=np.load(file_path)\n",
    "        arr=arr[\"arr\"]\n",
    "        if np.any(arr < 0.1): \n",
    "            N+=1\n",
    "            print(\"vu\")\n",
    "        "
   ]
  },
  {
   "cell_type": "code",
   "execution_count": null,
   "id": "be4c2dd9-1f11-4627-993c-8479de43fad5",
   "metadata": {},
   "outputs": [],
   "source": []
  }
 ],
 "metadata": {
  "kernelspec": {
   "display_name": "Python 3 (ipykernel)",
   "language": "python",
   "name": "python3"
  },
  "language_info": {
   "codemirror_mode": {
    "name": "ipython",
    "version": 3
   },
   "file_extension": ".py",
   "mimetype": "text/x-python",
   "name": "python",
   "nbconvert_exporter": "python",
   "pygments_lexer": "ipython3",
   "version": "3.12.2"
  }
 },
 "nbformat": 4,
 "nbformat_minor": 5
}
