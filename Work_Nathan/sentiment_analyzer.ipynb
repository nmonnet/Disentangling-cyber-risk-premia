{
 "cells": [
  {
   "cell_type": "code",
   "execution_count": 1,
   "id": "04859d50-c205-4e82-bb08-7b68f3ab118f",
   "metadata": {},
   "outputs": [
    {
     "name": "stderr",
     "output_type": "stream",
     "text": [
      "C:\\Users\\natha\\Desktop\\17-Cyber-risk_and_the_cross-section_of_stock_returns-main\\17-Cyber-risk_and_the_cross-section_of_stock_returns-main\\Work_Nathan\\useful_functions.py:941: SyntaxWarning: invalid escape sequence '\\s'\n",
      "  item1A = re.sub('\\s{2,}',' ', item1A)\n",
      "C:\\Users\\natha\\Desktop\\17-Cyber-risk_and_the_cross-section_of_stock_returns-main\\17-Cyber-risk_and_the_cross-section_of_stock_returns-main\\Work_Nathan\\useful_functions.py:952: SyntaxWarning: invalid escape sequence '\\s'\n",
      "  document = re.sub('\\s{2,}',' ', document)\n",
      "[nltk_data] Downloading package stopwords to\n",
      "[nltk_data]     C:\\Users\\natha\\AppData\\Roaming\\nltk_data...\n",
      "[nltk_data]   Package stopwords is already up-to-date!\n"
     ]
    },
    {
     "name": "stdout",
     "output_type": "stream",
     "text": [
      "update 16\n"
     ]
    }
   ],
   "source": [
    "%run useful_functions.py"
   ]
  },
  {
   "cell_type": "markdown",
   "id": "9deacd1d-317d-47e8-9628-c3a09de96c20",
   "metadata": {},
   "source": [
    "# Definition of lists"
   ]
  },
  {
   "cell_type": "code",
   "execution_count": 2,
   "id": "94357a32-4ee3-44b0-9428-2a11c6721fba",
   "metadata": {},
   "outputs": [],
   "source": [
    "uncertainty_list = [\n",
    "    \"ambiguity\",\n",
    "    \"ambivalence\",\n",
    "    \"anxiety\",\n",
    "    \"concern\",\n",
    "    \"confusion\",\n",
    "    \"distrust\",\n",
    "    \"mistrust\",\n",
    "    \"skepticism\",\n",
    "    \"suspicion\",\n",
    "    \"trouble\",\n",
    "    \"uneasiness\",\n",
    "    \"unpredictability\",\n",
    "    \"worry\",\n",
    "    \"bewilderment\",\n",
    "    \"conjecture\",\n",
    "    \"contingency\",\n",
    "    \"dilemma\",\n",
    "    \"disquiet\",\n",
    "    \"doubtfulness\",\n",
    "    \"dubiety\",\n",
    "    \"guesswork\",\n",
    "    \"hesitancy\",\n",
    "    \"hesitation\",\n",
    "    \"incertitude\",\n",
    "    \"inconclusiveness\",\n",
    "    \"indecision\",\n",
    "    \"irresolution\",\n",
    "    \"misgiving\",\n",
    "    \"mystification\",\n",
    "    \"oscillation\",\n",
    "    \"perplexity\",\n",
    "    \"puzzle\",\n",
    "    \"puzzlement\",\n",
    "    \"qualm\",\n",
    "    \"quandary\",\n",
    "    \"query\",\n",
    "    \"reserve\",\n",
    "    \"scruple\",\n",
    "    \"vagueness\",\n",
    "    \"wonder\",\n",
    "    \"lack of confidence\",\n",
    "    \"questionableness\"\n",
    "]"
   ]
  },
  {
   "cell_type": "code",
   "execution_count": 3,
   "id": "835526ba-de03-4f95-bd98-0a8640016b4b",
   "metadata": {},
   "outputs": [],
   "source": [
    "risk_list = [\n",
    "    \"danger\",\n",
    "    \"exposure\",\n",
    "    \"hazard\",\n",
    "    \"liability\",\n",
    "    \"opportunity\",\n",
    "    \"peril\",\n",
    "    \"possibility\",\n",
    "    \"prospect\",\n",
    "    \"uncertainty\",\n",
    "    \"accident\",\n",
    "    \"contingency\",\n",
    "    \"flyer\",\n",
    "    \"fortuity\",\n",
    "    \"fortune\",\n",
    "    \"gamble\",\n",
    "    \"header\",\n",
    "    \"jeopardy\",\n",
    "    \"luck\",\n",
    "    \"openness\",\n",
    "    \"plunge\",\n",
    "    \"speculation\",\n",
    "    \"stab\",\n",
    "    \"venture\",\n",
    "    \"wager\",\n",
    "    \"exposedness\",\n",
    "    \"liableness\",\n",
    "    \"shot in the dark\"\n",
    "]"
   ]
  },
  {
   "cell_type": "code",
   "execution_count": 4,
   "id": "5b99e7f2-20b1-4213-b24b-9a049dc1d141",
   "metadata": {},
   "outputs": [],
   "source": [
    "protection_list = [\n",
    "    \"conservation\",\n",
    "    \"insurance\",\n",
    "    \"preservation\",\n",
    "    \"safeguard\",\n",
    "    \"safety\",\n",
    "    \"security\",\n",
    "    \"shelter\",\n",
    "    \"stability\",\n",
    "    \"aegis\",\n",
    "    \"armament\",\n",
    "    \"armor\",\n",
    "    \"assurance\",\n",
    "    \"barrier\",\n",
    "    \"buffer\",\n",
    "    \"bulwark\",\n",
    "    \"camouflage\",\n",
    "    \"certainty\",\n",
    "    \"charge\",\n",
    "    \"cover\",\n",
    "    \"custody\",\n",
    "    \"defense\",\n",
    "    \"fix\",\n",
    "    \"guard\",\n",
    "    \"invulnerability\",\n",
    "    \"reassurance\",\n",
    "    \"refuge\",\n",
    "    \"safekeeping\",\n",
    "    \"salvation\",\n",
    "    \"screen\",\n",
    "    \"self-defense\",\n",
    "    \"shield\",\n",
    "    \"strength\",\n",
    "    \"surety\",\n",
    "    \"tutelage\",\n",
    "    \"umbrella\",\n",
    "    \"ward\",\n",
    "    \"guarding\",\n",
    "    \"protecting\",\n",
    "    \"wardship\"\n",
    "]"
   ]
  },
  {
   "cell_type": "code",
   "execution_count": 5,
   "id": "2d2a2970-ebd8-471a-8c69-e3612ef0ec53",
   "metadata": {},
   "outputs": [],
   "source": [
    "security_list = [\n",
    "    \"bond\",\n",
    "    \"care\",\n",
    "    \"freedom\",\n",
    "    \"guarantee\",\n",
    "    \"insurance\",\n",
    "    \"preservation\",\n",
    "    \"surveillance\",\n",
    "    \"aegis\",\n",
    "    \"agreement\",\n",
    "    \"armament\",\n",
    "    \"armor\",\n",
    "    \"asylum\",\n",
    "    \"bail\",\n",
    "    \"collateral\",\n",
    "    \"compact\",\n",
    "    \"contract\",\n",
    "    \"covenant\",\n",
    "    \"cover\",\n",
    "    \"custody\",\n",
    "    \"defense\",\n",
    "    \"earnest\",\n",
    "    \"guard\",\n",
    "    \"immunity\",\n",
    "    \"pact\",\n",
    "    \"pawn\",\n",
    "    \"pledge\",\n",
    "    \"precaution\",\n",
    "    \"promise\",\n",
    "    \"refuge\",\n",
    "    \"retreat\",\n",
    "    \"safeguard\",\n",
    "    \"safekeeping\",\n",
    "    \"safeness\",\n",
    "    \"salvation\",\n",
    "    \"sanctuary\",\n",
    "    \"shelter\",\n",
    "    \"shield\",\n",
    "    \"surety\",\n",
    "    \"token\",\n",
    "    \"ward\",\n",
    "    \"warrant\",\n",
    "    \"safety measure\"\n",
    "]"
   ]
  },
  {
   "cell_type": "code",
   "execution_count": 6,
   "id": "14a3f1ae-2444-41ea-9997-4c0aad1c0a30",
   "metadata": {},
   "outputs": [],
   "source": [
    "list_ref = [\n",
    "    \"risk\", \"jeopardize\", \"riskiness\",\n",
    "    \"risks\", \"unsettled\", \"treacherous\",\n",
    "    \"uncertainty\", \"unpredictability\", \"oscillating\",\n",
    "    \"variable\", \"dilemma\", \"perilous\",\n",
    "    \"chance\", \"skepticism\", \"tentativeness\",\n",
    "    \"possibility\", \"hesitancy\", \"unreliability\",\n",
    "    \"pending\", \"riskier\", \"wariness\",\n",
    "    \"uncertainties\", \"unresolved\", \"vagueness\",\n",
    "    \"uncertain\", \"unsure\", \"dodgy\",\n",
    "    \"doubt\", \"irregular\", \"equivocation\",\n",
    "    \"prospect\", \"jeopardy\", \"indecisive\",\n",
    "    \"bet\", \"suspicion\", \"chancy\",\n",
    "    \"variability\", \"risking\", \"menace\",\n",
    "    \"exposed\", \"peril\", \"qualm\",\n",
    "    \"likelihood\", \"hesitating\", \"vacillating\",\n",
    "    \"threat\", \"risked\", \"gnarly\",\n",
    "    \"probability\", \"unreliable\", \"disquiet\",\n",
    "    \"unknown\", \"unsafe\", \"ambivalence\",\n",
    "    \"varying\", \"hazy\", \"imperil\",\n",
    "    \"unclear\", \"apprehension\", \"vacillation\",\n",
    "    \"unpredictable\", \"unforeseeable\", \"incalculable\",\n",
    "    \"speculative\", \"halting\", \"untrustworthy\",\n",
    "    \"fear\", \"wager\", \"equivocating\",\n",
    "    \"reservation\", \"torn\", \"diffident\",\n",
    "    \"hesitant\", \"precarious\", \"fickleness\",\n",
    "    \"gamble\", \"undetermined\", \"misgiving\",\n",
    "    \"risky\", \"insecurity\", \"changeability\",\n",
    "    \"instability\", \"debatable\", \"undependable\",\n",
    "    \"doubtful\", \"undecided\", \"incertitude\",\n",
    "    \"hazard\", \"dicey\", \"fitful\",\n",
    "    \"tricky\", \"indecision\", \"parlous\",\n",
    "    \"sticky\", \"wavering\", \"unconfident\",\n",
    "    \"dangerous\", \"iffy\", \"defenseless\",\n",
    "    \"tentative\", \"faltering\", \"unsureness\",\n",
    "    \"hazardous\", \"endanger\", \"fluctuant\",\n",
    "    \"queries\", \"quandary\", \"niggle\",\n",
    "    \"danger\", \"insecure\", \"diffidence\",\n",
    "    \"fluctuating\", \"changeable\", \"precariousness\",\n",
    "    \"unstable\", \"riskiest\", \"doubtfulness\",\n",
    "    \"vague\", \"hairy\", \"erratic\", \"ambivalent\",\n",
    "    \"query\", \"dubious\"\n",
    "]\n",
    "\n",
    "#hassanHollanderLentTahoun2019\n",
    "\n"
   ]
  },
  {
   "cell_type": "markdown",
   "id": "5e82e51b-ecdf-420c-aa3c-3f631e0c84b8",
   "metadata": {},
   "source": [
    "# Sentiment analyzer"
   ]
  },
  {
   "cell_type": "code",
   "execution_count": 7,
   "id": "2aa6999e-7b15-4974-8699-a88c43d5b97b",
   "metadata": {},
   "outputs": [],
   "source": [
    "def check_in_list(list_of_list,ref=list_ref):\n",
    "    results = []\n",
    "    for lst in list_of_list:\n",
    "        count = 0\n",
    "        for term in lst:\n",
    "            if term in ref:\n",
    "                count += 1\n",
    "        results.append(count)\n",
    "    return np.array(results)\n",
    "    "
   ]
  },
  {
   "cell_type": "code",
   "execution_count": 8,
   "id": "29682ef2-dbfa-4daa-a0d0-f92c3152835d",
   "metadata": {},
   "outputs": [
    {
     "name": "stdout",
     "output_type": "stream",
     "text": [
      "currently processing :  2007\n"
     ]
    },
    {
     "data": {
      "application/vnd.jupyter.widget-view+json": {
       "model_id": "ad02bba849e94a17882c3c3a19c9dcb7",
       "version_major": 2,
       "version_minor": 0
      },
      "text/plain": [
       "Processing tokens into vector into similitude matrix.:   0%|          | 0/3279 [00:00<?, ?file/s]"
      ]
     },
     "metadata": {},
     "output_type": "display_data"
    },
    {
     "name": "stdout",
     "output_type": "stream",
     "text": [
      "currently processing :  2008\n"
     ]
    },
    {
     "data": {
      "application/vnd.jupyter.widget-view+json": {
       "model_id": "2135f53d65fb462e8efcd7decec446e1",
       "version_major": 2,
       "version_minor": 0
      },
      "text/plain": [
       "Processing tokens into vector into similitude matrix.:   0%|          | 0/3343 [00:00<?, ?file/s]"
      ]
     },
     "metadata": {},
     "output_type": "display_data"
    },
    {
     "name": "stdout",
     "output_type": "stream",
     "text": [
      "currently processing :  2009\n"
     ]
    },
    {
     "data": {
      "application/vnd.jupyter.widget-view+json": {
       "model_id": "131e2cf552164e9f90d79b740d700601",
       "version_major": 2,
       "version_minor": 0
      },
      "text/plain": [
       "Processing tokens into vector into similitude matrix.:   0%|          | 0/3542 [00:00<?, ?file/s]"
      ]
     },
     "metadata": {},
     "output_type": "display_data"
    },
    {
     "name": "stdout",
     "output_type": "stream",
     "text": [
      "currently processing :  2010\n"
     ]
    },
    {
     "data": {
      "application/vnd.jupyter.widget-view+json": {
       "model_id": "153762e145cf45a19c0ebdad5b234531",
       "version_major": 2,
       "version_minor": 0
      },
      "text/plain": [
       "Processing tokens into vector into similitude matrix.:   0%|          | 0/3472 [00:00<?, ?file/s]"
      ]
     },
     "metadata": {},
     "output_type": "display_data"
    },
    {
     "name": "stdout",
     "output_type": "stream",
     "text": [
      "currently processing :  2011\n"
     ]
    },
    {
     "data": {
      "application/vnd.jupyter.widget-view+json": {
       "model_id": "310d4b380e69419a961801b4a8fd4518",
       "version_major": 2,
       "version_minor": 0
      },
      "text/plain": [
       "Processing tokens into vector into similitude matrix.:   0%|          | 0/3432 [00:00<?, ?file/s]"
      ]
     },
     "metadata": {},
     "output_type": "display_data"
    },
    {
     "name": "stdout",
     "output_type": "stream",
     "text": [
      "currently processing :  2012\n"
     ]
    },
    {
     "data": {
      "application/vnd.jupyter.widget-view+json": {
       "model_id": "e92c795f8f2f4715b5d0b92090a376f5",
       "version_major": 2,
       "version_minor": 0
      },
      "text/plain": [
       "Processing tokens into vector into similitude matrix.:   0%|          | 0/3413 [00:00<?, ?file/s]"
      ]
     },
     "metadata": {},
     "output_type": "display_data"
    },
    {
     "name": "stdout",
     "output_type": "stream",
     "text": [
      "currently processing :  2013\n"
     ]
    },
    {
     "data": {
      "application/vnd.jupyter.widget-view+json": {
       "model_id": "ed141e6191bd439984c0e890428dcd2b",
       "version_major": 2,
       "version_minor": 0
      },
      "text/plain": [
       "Processing tokens into vector into similitude matrix.:   0%|          | 0/3404 [00:00<?, ?file/s]"
      ]
     },
     "metadata": {},
     "output_type": "display_data"
    },
    {
     "name": "stdout",
     "output_type": "stream",
     "text": [
      "currently processing :  2014\n"
     ]
    },
    {
     "data": {
      "application/vnd.jupyter.widget-view+json": {
       "model_id": "93f0da71a176497088ab4e79f853fc28",
       "version_major": 2,
       "version_minor": 0
      },
      "text/plain": [
       "Processing tokens into vector into similitude matrix.:   0%|          | 0/3491 [00:00<?, ?file/s]"
      ]
     },
     "metadata": {},
     "output_type": "display_data"
    },
    {
     "name": "stdout",
     "output_type": "stream",
     "text": [
      "currently processing :  2015\n"
     ]
    },
    {
     "data": {
      "application/vnd.jupyter.widget-view+json": {
       "model_id": "3e5f3d3f80cc4475b15dcc6a41def9b6",
       "version_major": 2,
       "version_minor": 0
      },
      "text/plain": [
       "Processing tokens into vector into similitude matrix.:   0%|          | 0/3618 [00:00<?, ?file/s]"
      ]
     },
     "metadata": {},
     "output_type": "display_data"
    },
    {
     "name": "stdout",
     "output_type": "stream",
     "text": [
      "currently processing :  2016\n"
     ]
    },
    {
     "data": {
      "application/vnd.jupyter.widget-view+json": {
       "model_id": "2515bc4ecda448d98e245a02ab5549a0",
       "version_major": 2,
       "version_minor": 0
      },
      "text/plain": [
       "Processing tokens into vector into similitude matrix.:   0%|          | 0/3657 [00:00<?, ?file/s]"
      ]
     },
     "metadata": {},
     "output_type": "display_data"
    },
    {
     "name": "stdout",
     "output_type": "stream",
     "text": [
      "currently processing :  2017\n"
     ]
    },
    {
     "data": {
      "application/vnd.jupyter.widget-view+json": {
       "model_id": "26898e4617154fc8ad1dedbf7268d179",
       "version_major": 2,
       "version_minor": 0
      },
      "text/plain": [
       "Processing tokens into vector into similitude matrix.:   0%|          | 0/3704 [00:00<?, ?file/s]"
      ]
     },
     "metadata": {},
     "output_type": "display_data"
    },
    {
     "name": "stdout",
     "output_type": "stream",
     "text": [
      "currently processing :  2018\n"
     ]
    },
    {
     "data": {
      "application/vnd.jupyter.widget-view+json": {
       "model_id": "369b795058d74627be41c807bf8b9f35",
       "version_major": 2,
       "version_minor": 0
      },
      "text/plain": [
       "Processing tokens into vector into similitude matrix.:   0%|          | 0/3820 [00:00<?, ?file/s]"
      ]
     },
     "metadata": {},
     "output_type": "display_data"
    },
    {
     "name": "stdout",
     "output_type": "stream",
     "text": [
      "currently processing :  2019\n"
     ]
    },
    {
     "data": {
      "application/vnd.jupyter.widget-view+json": {
       "model_id": "5e07c2b699464f2e846887d0d5b786e0",
       "version_major": 2,
       "version_minor": 0
      },
      "text/plain": [
       "Processing tokens into vector into similitude matrix.:   0%|          | 0/3939 [00:00<?, ?file/s]"
      ]
     },
     "metadata": {},
     "output_type": "display_data"
    },
    {
     "name": "stdout",
     "output_type": "stream",
     "text": [
      "currently processing :  2020\n"
     ]
    },
    {
     "data": {
      "application/vnd.jupyter.widget-view+json": {
       "model_id": "0ac5f9e12ee94f13adeb4d77413537b1",
       "version_major": 2,
       "version_minor": 0
      },
      "text/plain": [
       "Processing tokens into vector into similitude matrix.:   0%|          | 0/4076 [00:00<?, ?file/s]"
      ]
     },
     "metadata": {},
     "output_type": "display_data"
    },
    {
     "name": "stdout",
     "output_type": "stream",
     "text": [
      "currently processing :  2021\n"
     ]
    },
    {
     "data": {
      "application/vnd.jupyter.widget-view+json": {
       "model_id": "0111d9a9d90d42ea973d347b6376e87d",
       "version_major": 2,
       "version_minor": 0
      },
      "text/plain": [
       "Processing tokens into vector into similitude matrix.:   0%|          | 0/4513 [00:00<?, ?file/s]"
      ]
     },
     "metadata": {},
     "output_type": "display_data"
    },
    {
     "name": "stdout",
     "output_type": "stream",
     "text": [
      "currently processing :  2022\n"
     ]
    },
    {
     "data": {
      "application/vnd.jupyter.widget-view+json": {
       "model_id": "e272092b889542189029a3ebb426f8bf",
       "version_major": 2,
       "version_minor": 0
      },
      "text/plain": [
       "Processing tokens into vector into similitude matrix.:   0%|          | 0/5289 [00:00<?, ?file/s]"
      ]
     },
     "metadata": {},
     "output_type": "display_data"
    },
    {
     "name": "stdout",
     "output_type": "stream",
     "text": [
      "currently processing :  2023\n"
     ]
    },
    {
     "data": {
      "application/vnd.jupyter.widget-view+json": {
       "model_id": "e7d94f2e03834ab3a493f4a3c6e6a310",
       "version_major": 2,
       "version_minor": 0
      },
      "text/plain": [
       "Processing tokens into vector into similitude matrix.:   0%|          | 0/4996 [00:00<?, ?file/s]"
      ]
     },
     "metadata": {},
     "output_type": "display_data"
    },
    {
     "name": "stdout",
     "output_type": "stream",
     "text": [
      "currently processing :  2024\n"
     ]
    },
    {
     "data": {
      "application/vnd.jupyter.widget-view+json": {
       "model_id": "0045f85e71124216abf13e530e60092f",
       "version_major": 2,
       "version_minor": 0
      },
      "text/plain": [
       "Processing tokens into vector into similitude matrix.:   0%|          | 0/2014 [00:00<?, ?file/s]"
      ]
     },
     "metadata": {},
     "output_type": "display_data"
    }
   ],
   "source": [
    "years=np.arange(2007,2025) #2017 à faire\n",
    "for year in years:\n",
    "    print(\"currently processing : \",year)\n",
    "    #obtain all csv name in a given directory\n",
    "    directory = '../../data/10k_statements_new/tokens/'+str(year)+'/'\n",
    "    matching_files = [filename for filename in os.listdir(directory) if \"_tokens\" in filename]\n",
    "\n",
    "    for idx, csv_file in enumerate(tqdm(matching_files, desc=\"Processing tokens into vector into similitude matrix.\", unit=\"file\")):\n",
    "        if idx>=0:\n",
    "            \n",
    "    \n",
    "                firm_name=csv_file.split(\"_tokens.csv\")[0]\n",
    "        \n",
    "                df_token=pd.read_csv(directory+csv_file, compression='gzip',dtype=str)\n",
    "                df_token=df_token.drop('Unnamed: 0', axis=1)\n",
    "\n",
    "\n",
    "                list_of_lists = df_token.values.tolist()\n",
    "                list_tokens = [[value for value in sublist if not pd.isna(value)] for sublist in list_of_lists]\n",
    "\n",
    "                occurences=check_in_list(list_tokens)\n",
    "                occurences=occurences.astype(np.uint8)\n",
    "\n",
    "                path_risk='../../data/10k_statements_new/risk_occurences/'+str(year)+'/'+firm_name+'_risk_occurences.txt'\n",
    "                np.savetxt(path_risk, occurences)\n",
    "                \n",
    "                \n",
    "             \n",
    "\n",
    "            "
   ]
  },
  {
   "cell_type": "code",
   "execution_count": null,
   "id": "0ff1278a-4046-446e-8a81-ba80c64ff87c",
   "metadata": {},
   "outputs": [],
   "source": []
  }
 ],
 "metadata": {
  "kernelspec": {
   "display_name": "Python 3 (ipykernel)",
   "language": "python",
   "name": "python3"
  },
  "language_info": {
   "codemirror_mode": {
    "name": "ipython",
    "version": 3
   },
   "file_extension": ".py",
   "mimetype": "text/x-python",
   "name": "python",
   "nbconvert_exporter": "python",
   "pygments_lexer": "ipython3",
   "version": "3.12.4"
  }
 },
 "nbformat": 4,
 "nbformat_minor": 5
}
