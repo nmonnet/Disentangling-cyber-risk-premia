{
 "cells": [
  {
   "cell_type": "code",
   "execution_count": 1,
   "id": "84e8444d-b69d-4665-a118-a2fa9ddcbe34",
   "metadata": {},
   "outputs": [
    {
     "name": "stderr",
     "output_type": "stream",
     "text": [
      "C:\\Users\\natha\\Desktop\\17-Cyber-risk_and_the_cross-section_of_stock_returns-main (2)\\17-Cyber-risk_and_the_cross-section_of_stock_returns-main\\Work_Nathan\\useful_functions.py:5: DeprecationWarning: \n",
      "Pyarrow will become a required dependency of pandas in the next major release of pandas (pandas 3.0),\n",
      "(to allow more performant data types, such as the Arrow string type, and better interoperability with other libraries)\n",
      "but was not found to be installed on your system.\n",
      "If this would cause problems for you,\n",
      "please provide us feedback at https://github.com/pandas-dev/pandas/issues/54466\n",
      "        \n",
      "  import pandas as pd\n",
      "[nltk_data] Downloading package stopwords to\n",
      "[nltk_data]     C:\\Users\\natha\\AppData\\Roaming\\nltk_data...\n",
      "[nltk_data]   Package stopwords is already up-to-date!\n"
     ]
    },
    {
     "name": "stdout",
     "output_type": "stream",
     "text": [
      "update 14\n"
     ]
    }
   ],
   "source": [
    "%run useful_functions.py"
   ]
  },
  {
   "cell_type": "code",
   "execution_count": 2,
   "id": "23a42571-dfba-46e5-80c3-afaa098aa871",
   "metadata": {},
   "outputs": [
    {
     "name": "stdout",
     "output_type": "stream",
     "text": [
      "check number of negative similitude : 0\n"
     ]
    }
   ],
   "source": [
    "sim_mat=setup_similitude_matrix()"
   ]
  },
  {
   "cell_type": "code",
   "execution_count": 3,
   "id": "05935cef-6de3-46f8-8b06-effda281612a",
   "metadata": {},
   "outputs": [
    {
     "name": "stdout",
     "output_type": "stream",
     "text": [
      "[[1.0000002  0.6542873  0.5804319  ... 0.5044317  0.48481116 0.51478875]\n",
      " [0.6542873  0.9999995  0.7706407  ... 0.50514305 0.50925064 0.52966756]\n",
      " [0.5804319  0.7706407  1.         ... 0.5064419  0.51968044 0.49092975]\n",
      " ...\n",
      " [0.5044317  0.50514305 0.5064419  ... 1.0000005  0.9637937  0.67670363]\n",
      " [0.48481116 0.50925064 0.51968044 ... 0.9637937  0.9999999  0.69036084]\n",
      " [0.51478875 0.52966756 0.49092975 ... 0.67670363 0.69036084 0.99999964]]\n",
      "(785, 785)\n"
     ]
    }
   ],
   "source": [
    "print(sim_mat)\n",
    "print(sim_mat.shape)"
   ]
  },
  {
   "cell_type": "code",
   "execution_count": 4,
   "id": "aeb1d935-85d0-493d-a460-acac300106dc",
   "metadata": {},
   "outputs": [],
   "source": [
    "np.savetxt('similitude_matrix.txt', sim_mat, fmt='%.5f')"
   ]
  },
  {
   "cell_type": "code",
   "execution_count": null,
   "id": "bd1553fe-d9e1-4459-a9b4-c5686b0a9e7a",
   "metadata": {},
   "outputs": [],
   "source": []
  }
 ],
 "metadata": {
  "kernelspec": {
   "display_name": "Python 3 (ipykernel)",
   "language": "python",
   "name": "python3"
  },
  "language_info": {
   "codemirror_mode": {
    "name": "ipython",
    "version": 3
   },
   "file_extension": ".py",
   "mimetype": "text/x-python",
   "name": "python",
   "nbconvert_exporter": "python",
   "pygments_lexer": "ipython3",
   "version": "3.12.2"
  }
 },
 "nbformat": 4,
 "nbformat_minor": 5
}
